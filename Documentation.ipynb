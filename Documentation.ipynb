{
 "cells": [
  {
   "cell_type": "markdown",
   "id": "d816c756",
   "metadata": {},
   "source": [
    "# Code Documentation: \n",
    "# Dijistra's Algorithm Visualization with Turtle"
   ]
  },
  {
   "cell_type": "markdown",
   "id": "a9214e0d",
   "metadata": {},
   "source": [
    "## Introduction"
   ]
  },
  {
   "cell_type": "markdown",
   "id": "c39d372d",
   "metadata": {},
   "source": [
    "This comprehensive code documentation explains a Python program that implements Dijistra's algorithm for finding the shortest path in a graph. It uses the Turtle graphics library to visually represent the graph and highlight the calculated shortest path."
   ]
  },
  {
   "cell_type": "markdown",
   "id": "f3517c37",
   "metadata": {},
   "source": [
    "## Table of Contents"
   ]
  },
  {
   "cell_type": "markdown",
   "id": "0da9725a",
   "metadata": {},
   "source": [
    "1. Overview\n",
    "2. Program Structure\n",
    "3. Classes and Methods\n",
    "4. Class Graph\n",
    "5. Class Dijistra\n",
    "6. Class TurtleGraph\n",
    "7. Main Execution\n",
    "8. How to Run\n",
    "Conclusion"
   ]
  },
  {
   "cell_type": "markdown",
   "id": "f21bd5a3",
   "metadata": {},
   "source": [
    "## 1. Overview"
   ]
  },
  {
   "cell_type": "markdown",
   "id": "16aa2b44",
   "metadata": {},
   "source": [
    "The provided Python program demonstrates Dijistra's algorithm, a widely-used algorithm for finding the shortest path in a graph. It achieves this by creating a sample graph with nodes and weighted edges. Dijistra's algorithm calculates the shortest path, and Turtle graphics are employed to visualize the graph and highlight the shortest path."
   ]
  },
  {
   "cell_type": "markdown",
   "id": "fa1e45f7",
   "metadata": {},
   "source": [
    "## 2. Program Structure"
   ]
  },
  {
   "cell_type": "markdown",
   "id": "e9db0c73",
   "metadata": {},
   "source": [
    "The program is thoughtfully structured into several components, each with a unique role in achieving its purpose:"
   ]
  },
  {
   "cell_type": "markdown",
   "id": "b5afa762",
   "metadata": {},
   "source": [
    " - Class 'Graph': Represents the graph structure and provides methods to add nodes and edges.\n",
    " - Class 'Dijistra': Contains the Dijistra's algorithm implementation to compute the shortest path.\n",
    " - Class 'TurtleGraph': Manages graph visualization using the Turtle graphics library.\n",
    " - Main Execution Block: This is where the sample graph is created, the shortest path is computed, and the graph is visualized."
   ]
  },
  {
   "cell_type": "markdown",
   "id": "c20cfbef",
   "metadata": {},
   "source": [
    "## 3. Classes and Methods "
   ]
  },
  {
   "cell_type": "markdown",
   "id": "884ce672",
   "metadata": {},
   "source": [
    "### Class Graph"
   ]
  },
  {
   "cell_type": "markdown",
   "id": "15bef02f",
   "metadata": {},
   "source": [
    " - The 'Graph' class serves as the foundation for the graph data structure and offers essential methods for manipulating the graph.\n"
   ]
  },
  {
   "cell_type": "markdown",
   "id": "c89aa754",
   "metadata": {},
   "source": [
    " - Methods:\n",
    "    - '__init__(self)': Initializes the graph with an empty set of nodes and an empty dictionary of edges.\n",
    "    - 'add_node(self, value)': Adds a node to the graph with the specified value.\n",
    "    - 'add_edge(self, from_node, to_node, weight)': Adds an edge between two nodes with a given weight."
   ]
  },
  {
   "cell_type": "markdown",
   "id": "d0752948",
   "metadata": {},
   "source": [
    "### Class Dijistra"
   ]
  },
  {
   "cell_type": "markdown",
   "id": "980d3593",
   "metadata": {},
   "source": [
    " - The 'Dijistra' class implements Dijistra's algorithm to find the shortest path in a graph."
   ]
  },
  {
   "cell_type": "markdown",
   "id": "5d24d788",
   "metadata": {},
   "source": [
    " - #### Static Method:\n",
    "      - 'find_shortest_path(graph, start)': Calculates the shortest path from a given start node to all other nodes in the graph using Dijistra's algorithm."
   ]
  },
  {
   "cell_type": "markdown",
   "id": "b975faac",
   "metadata": {},
   "source": [
    "### Class TurtleGraph"
   ]
  },
  {
   "cell_type": "markdown",
   "id": "34172eba",
   "metadata": {},
   "source": [
    " - The 'TurtleGraph' class is responsible for visualizing the graph and highlighting the shortest path using the Turtle graphics library."
   ]
  },
  {
   "cell_type": "markdown",
   "id": "ab6091e2",
   "metadata": {},
   "source": [
    " - Methods:\n",
    "    - '__init__(self, graph)': Initializes the TurtleGraph with the input graph.\n",
    "    - 'draw_node(self, x, y, value)': Draws a node at the specified coordinates with the given value.\n",
    "    - 'draw_edge(self, x1, y1, x2, y2, weight)': Draws an edge between two nodes and displays the edge weight.\n",
    "    - 'highlight_path(self, shortest_path, node_positions)': Highlights the shortest path in red.\n",
    "    - 'visualize_graph(self, node_positions, start_node, target_node, shortest_path)': Visualizes the entire graph, including nodes, edges, and the shortest path.\n"
   ]
  },
  {
   "cell_type": "markdown",
   "id": "a5a4ba04",
   "metadata": {},
   "source": [
    "## 4. Main Execution"
   ]
  },
  {
   "cell_type": "markdown",
   "id": "d858aa56",
   "metadata": {},
   "source": [
    "In the main execution block, the following steps are performed:"
   ]
  },
  {
   "cell_type": "markdown",
   "id": "33c610da",
   "metadata": {},
   "source": [
    "- A sample graph is created with nodes ('A', 'B', 'C', 'D', 'E') and edges with associated weights.\n",
    "- Dijistra's algorithm is applied to find the shortest path from the start node ('A') to all other nodes in the graph.\n",
    "- Node positions are defined as a dictionary with x and y coordinates.\n",
    "- The source and target nodes are specified.\n",
    "- A list of nodes in the shortest path is defined.\n",
    "- An instance of the TurtleGraph class is created.\n",
    "- The visualize_graph method is called to display the graph, highlight the shortest path, and mark the source and target nodes."
   ]
  },
  {
   "cell_type": "markdown",
   "id": "642089f8",
   "metadata": {},
   "source": [
    "## 5. How to Run "
   ]
  },
  {
   "cell_type": "markdown",
   "id": "91d7ca2c",
   "metadata": {},
   "source": [
    "To run this program, you need Python installed on your system. Follow these steps:"
   ]
  },
  {
   "cell_type": "markdown",
   "id": "b63603f9",
   "metadata": {},
   "source": [
    "1. Ensure you have the Turtle graphics library, which is included in the standard Python library.\n",
    "2. Copy and paste the code into a Python script or a code editor.\n",
    "3. Save the script with a .py extension.\n",
    "4. Execute the script using a Python interpreter. The program will open a window with the graph visualization and the highlighted shortest path.\n",
    "5. Run the script using a Python interpreter (e.g., 'python dijistra_turtle_visualization.py').\n",
    "6. Upon execution, a graphical window will open displaying the graph visualization with the highlighted shortest path.\n"
   ]
  },
  {
   "cell_type": "markdown",
   "id": "686f911b",
   "metadata": {},
   "source": [
    "## 6. Conclusion"
   ]
  },
  {
   "cell_type": "markdown",
   "id": "c6968af9",
   "metadata": {},
   "source": [
    "This Python program effectively demonstrates Dijistra's algorithm for finding the shortest path in a graph and visualizes the results using the Turtle graphics library. It provides a clear example of how to implement and visualize graph algorithms, making it a valuable educational tool for understanding pathfinding algorithms and graph visualization."
   ]
  }
 ],
 "metadata": {
  "kernelspec": {
   "display_name": "Python 3 (ipykernel)",
   "language": "python",
   "name": "python3"
  },
  "language_info": {
   "codemirror_mode": {
    "name": "ipython",
    "version": 3
   },
   "file_extension": ".py",
   "mimetype": "text/x-python",
   "name": "python",
   "nbconvert_exporter": "python",
   "pygments_lexer": "ipython3",
   "version": "3.11.4"
  }
 },
 "nbformat": 4,
 "nbformat_minor": 5
}
